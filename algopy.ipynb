{
 "cells": [
  {
   "cell_type": "code",
   "execution_count": 105,
   "id": "dc66faa1",
   "metadata": {},
   "outputs": [],
   "source": [
    "# QUES1: Define a Class ScriptData which can fetch US Stock data using Alpha Vantage."
   ]
  },
  {
   "cell_type": "code",
   "execution_count": 104,
   "id": "f021b1da",
   "metadata": {},
   "outputs": [
    {
     "name": "stdout",
     "output_type": "stream",
     "text": [
      "Requirement already satisfied: pandas in c:\\users\\91931\\anaconda3\\bin\\anacondaset\\lib\\site-packages (1.2.4)\n",
      "Requirement already satisfied: pytz>=2017.3 in c:\\users\\91931\\anaconda3\\bin\\anacondaset\\lib\\site-packages (from pandas) (2021.1)\n",
      "Requirement already satisfied: numpy>=1.16.5 in c:\\users\\91931\\anaconda3\\bin\\anacondaset\\lib\\site-packages (from pandas) (1.20.1)\n",
      "Requirement already satisfied: python-dateutil>=2.7.3 in c:\\users\\91931\\anaconda3\\bin\\anacondaset\\lib\\site-packages (from pandas) (2.8.1)\n",
      "Requirement already satisfied: six>=1.5 in c:\\users\\91931\\anaconda3\\bin\\anacondaset\\lib\\site-packages (from python-dateutil>=2.7.3->pandas) (1.15.0)\n"
     ]
    }
   ],
   "source": [
    "!pip install pandas"
   ]
  },
  {
   "cell_type": "code",
   "execution_count": 2,
   "id": "e5b074ec",
   "metadata": {},
   "outputs": [],
   "source": [
    "import pandas as pd"
   ]
  },
  {
   "cell_type": "code",
   "execution_count": 54,
   "id": "e75852f1",
   "metadata": {},
   "outputs": [],
   "source": [
    "data = pd.read_csv('C:/Users/91931/Downloads/algo (2).csv')"
   ]
  },
  {
   "cell_type": "code",
   "execution_count": 55,
   "id": "8ca2f7f9",
   "metadata": {},
   "outputs": [
    {
     "name": "stdout",
     "output_type": "stream",
     "text": [
      "  Indicator Arguments  Values  Unnamed: 2  Unnamed: 3    Symbol  \\\n",
      "0         time_period     NaN         NaN         NaN      MLGO   \n",
      "1         series_type     NaN         NaN         NaN      MBOT   \n",
      "2         fastdperiod    3.00         NaN         NaN      MCHP   \n",
      "3         fastkperiod    5.00         NaN         NaN  CY9D.FRK   \n",
      "4           fastlimit    0.01         NaN         NaN   MCP.FRK   \n",
      "\n",
      "                                Name    Type         Region MarketOpen  \\\n",
      "0                      MicroAlgo Inc  Equity  United States       9:30   \n",
      "1               Microbot Medical Inc  Equity  United States       9:30   \n",
      "2           Microchip Technology Inc  Equity  United States       9:30   \n",
      "3               Microbot Medical Inc  Equity      Frankfurt       8:00   \n",
      "4  Microchip Technology Incorporated  Equity      Frankfurt       8:00   \n",
      "\n",
      "  MarketClose  ... Unnamed: 36 Commodity    WTI  Unnamed: 39     Date.1  \\\n",
      "0       16:00  ...         NaN  interval  daily          NaN  2/27/2023   \n",
      "1       16:00  ...         NaN       NaN    NaN          NaN  2/24/2023   \n",
      "2       16:00  ...         NaN       NaN    NaN          NaN  2/23/2023   \n",
      "3       20:00  ...         NaN       NaN    NaN          NaN  2/22/2023   \n",
      "4       20:00  ...         NaN       NaN    NaN          NaN  2/21/2023   \n",
      "\n",
      "   WTI.1     Currency.1         Unnamed: 44             Unnamed: 45  \n",
      "0  75.57 NaN        USD  From_Currency Code                     USD  \n",
      "1  76.19 NaN        GBP  From_Currency Name    United States Dollar  \n",
      "2  75.26 NaN        NaN    To_Currency Code                     GBP  \n",
      "3  73.95 NaN        NaN    To_Currency Name  British Pound Sterling  \n",
      "4  76.28 NaN        NaN       Exchange Rate                 0.81637  \n",
      "\n",
      "[5 rows x 46 columns]\n"
     ]
    }
   ],
   "source": [
    "import pandas as pd\n",
    "\n",
    "# Read the CSV file\n",
    "data = pd.read_csv('C:/Users/91931/Downloads/algo (2).csv')\n",
    "\n",
    "# Display the first few rows of the data\n",
    "print(data.head())\n",
    "\n",
    "# Access a specific column\n",
    "column_data = data['Indicator Arguments']"
   ]
  },
  {
   "cell_type": "code",
   "execution_count": 10,
   "id": "5d324d6a",
   "metadata": {},
   "outputs": [
    {
     "name": "stdout",
     "output_type": "stream",
     "text": [
      "Collecting alpha_vantage\n",
      "  Downloading alpha_vantage-2.3.1-py3-none-any.whl (31 kB)\n",
      "Requirement already satisfied: pandas in c:\\users\\91931\\anaconda3\\bin\\anacondaset\\lib\\site-packages (1.2.4)\n",
      "Requirement already satisfied: requests in c:\\users\\91931\\anaconda3\\bin\\anacondaset\\lib\\site-packages (from alpha_vantage) (2.25.1)\n",
      "Collecting aiohttp\n",
      "  Downloading aiohttp-3.8.4-cp38-cp38-win_amd64.whl (324 kB)\n",
      "Requirement already satisfied: numpy>=1.16.5 in c:\\users\\91931\\anaconda3\\bin\\anacondaset\\lib\\site-packages (from pandas) (1.20.1)\n",
      "Requirement already satisfied: python-dateutil>=2.7.3 in c:\\users\\91931\\anaconda3\\bin\\anacondaset\\lib\\site-packages (from pandas) (2.8.1)\n",
      "Requirement already satisfied: pytz>=2017.3 in c:\\users\\91931\\anaconda3\\bin\\anacondaset\\lib\\site-packages (from pandas) (2021.1)\n",
      "Requirement already satisfied: six>=1.5 in c:\\users\\91931\\anaconda3\\bin\\anacondaset\\lib\\site-packages (from python-dateutil>=2.7.3->pandas) (1.15.0)\n",
      "Requirement already satisfied: attrs>=17.3.0 in c:\\users\\91931\\anaconda3\\bin\\anacondaset\\lib\\site-packages (from aiohttp->alpha_vantage) (20.3.0)\n",
      "Collecting async-timeout<5.0,>=4.0.0a3\n",
      "  Downloading async_timeout-4.0.2-py3-none-any.whl (5.8 kB)\n",
      "Collecting multidict<7.0,>=4.5\n",
      "  Downloading multidict-6.0.4-cp38-cp38-win_amd64.whl (28 kB)\n",
      "Collecting frozenlist>=1.1.1\n",
      "  Downloading frozenlist-1.3.3-cp38-cp38-win_amd64.whl (34 kB)\n",
      "Collecting charset-normalizer<4.0,>=2.0\n",
      "  Downloading charset_normalizer-3.1.0-cp38-cp38-win_amd64.whl (96 kB)\n",
      "Collecting yarl<2.0,>=1.0\n",
      "  Downloading yarl-1.9.2-cp38-cp38-win_amd64.whl (61 kB)\n",
      "Collecting aiosignal>=1.1.2\n",
      "  Downloading aiosignal-1.3.1-py3-none-any.whl (7.6 kB)\n",
      "Requirement already satisfied: idna>=2.0 in c:\\users\\91931\\anaconda3\\bin\\anacondaset\\lib\\site-packages (from yarl<2.0,>=1.0->aiohttp->alpha_vantage) (2.10)\n",
      "Requirement already satisfied: certifi>=2017.4.17 in c:\\users\\91931\\anaconda3\\bin\\anacondaset\\lib\\site-packages (from requests->alpha_vantage) (2020.12.5)\n",
      "Requirement already satisfied: chardet<5,>=3.0.2 in c:\\users\\91931\\anaconda3\\bin\\anacondaset\\lib\\site-packages (from requests->alpha_vantage) (4.0.0)\n",
      "Requirement already satisfied: urllib3<1.27,>=1.21.1 in c:\\users\\91931\\anaconda3\\bin\\anacondaset\\lib\\site-packages (from requests->alpha_vantage) (1.26.4)\n",
      "Installing collected packages: multidict, frozenlist, yarl, charset-normalizer, async-timeout, aiosignal, aiohttp, alpha-vantage\n",
      "Successfully installed aiohttp-3.8.4 aiosignal-1.3.1 alpha-vantage-2.3.1 async-timeout-4.0.2 charset-normalizer-3.1.0 frozenlist-1.3.3 multidict-6.0.4 yarl-1.9.2\n"
     ]
    }
   ],
   "source": [
    "!pip install alpha_vantage pandas"
   ]
  },
  {
   "cell_type": "code",
   "execution_count": 11,
   "id": "01cd70cc",
   "metadata": {},
   "outputs": [],
   "source": [
    "import pandas as pd\n",
    "from alpha_vantage.timeseries import TimeSeries\n",
    "\n",
    "class ScriptData:\n",
    "    def __init__(self, apikey):\n",
    "        self.apikey = apikey\n",
    "        self.ts = TimeSeries(key=apikey, output_format='pandas')\n",
    "        \n",
    "    def fetch_intraday_data(self, script):\n",
    "        data, meta_data = self.ts.get_intraday(symbol=script, interval='1min', outputsize='full')\n",
    "        return data\n",
    "    \n",
    "    def convert_intraday_data(self, script):\n",
    "        raw_data = self.fetch_intraday_data(script)\n",
    "        df = pd.DataFrame(raw_data, columns=['timestamp', 'open', 'high', 'low', 'close', 'volume'])\n",
    "        df['timestamp'] = pd.to_datetime(df['timestamp'])\n",
    "        df.set_index('timestamp', inplace=True)\n",
    "        return df"
   ]
  },
  {
   "cell_type": "code",
   "execution_count": 25,
   "id": "2e6956fc",
   "metadata": {},
   "outputs": [
    {
     "name": "stdout",
     "output_type": "stream",
     "text": [
      "                       open     high     low    close  volume  \\\n",
      "date                                                            \n",
      "2023-07-03 16:59:00  119.60  119.640  119.54  119.640   248.0   \n",
      "2023-07-03 16:58:00  119.64  119.655  119.64  119.655     8.0   \n",
      "2023-07-03 16:57:00  119.65  119.655  119.65  119.650    24.0   \n",
      "2023-07-03 16:56:00  119.60  119.670  119.54  119.670    51.0   \n",
      "2023-07-03 16:55:00  119.56  119.655  119.56  119.640    48.0   \n",
      "\n",
      "                              timestamp  \n",
      "date                                     \n",
      "2023-07-03 16:59:00 2023-07-03 16:59:00  \n",
      "2023-07-03 16:58:00 2023-07-03 16:58:00  \n",
      "2023-07-03 16:57:00 2023-07-03 16:57:00  \n",
      "2023-07-03 16:56:00 2023-07-03 16:56:00  \n",
      "2023-07-03 16:55:00 2023-07-03 16:55:00  \n"
     ]
    }
   ],
   "source": [
    "apikey = 'CYTO5GW7TJ6OB2GA'\n",
    "script_data = ScriptData(apikey)\n",
    "df = script_data.convert_intraday_data('GOOGL')\n",
    "print(df.head())"
   ]
  },
  {
   "cell_type": "code",
   "execution_count": 26,
   "id": "740acf5f",
   "metadata": {},
   "outputs": [],
   "source": [
    "script_data = ScriptData(apikey)"
   ]
  },
  {
   "cell_type": "code",
   "execution_count": 27,
   "id": "cb2b707b",
   "metadata": {},
   "outputs": [],
   "source": [
    "import pandas as pd\n",
    "from alpha_vantage.timeseries import TimeSeries\n",
    "\n",
    "class ScriptData:\n",
    "    def __init__(self, api_key):\n",
    "        self.api_key = api_key\n",
    "        self.ts = TimeSeries(key=api_key, output_format='pandas')\n",
    "        \n",
    "    def fetch_intraday_data(self, script):\n",
    "        data, meta_data = self.ts.get_intraday(symbol=script, interval='1min', outputsize='full')\n",
    "        return data\n",
    "    \n",
    "    def convert_intraday_data(self, script):\n",
    "        raw_data = self.fetch_intraday_data(script)\n",
    "        df = pd.DataFrame(raw_data, columns=['timestamp', 'open', 'high', 'low', 'close', 'volume'])\n",
    "        df['timestamp'] = pd.to_datetime(df['timestamp'])\n",
    "        df.set_index('timestamp', inplace=True)\n",
    "        return df\n",
    "    def __getitem__(self, script):\n",
    "        return self.convert_intraday_data(script)\n",
    "    "
   ]
  },
  {
   "cell_type": "code",
   "execution_count": 28,
   "id": "9bfc517e",
   "metadata": {},
   "outputs": [
    {
     "name": "stdout",
     "output_type": "stream",
     "text": [
      "           open  high  low  close  volume\n",
      "timestamp                                \n",
      "NaT         NaN   NaN  NaN    NaN     NaN\n",
      "NaT         NaN   NaN  NaN    NaN     NaN\n",
      "NaT         NaN   NaN  NaN    NaN     NaN\n",
      "NaT         NaN   NaN  NaN    NaN     NaN\n",
      "NaT         NaN   NaN  NaN    NaN     NaN\n"
     ]
    }
   ],
   "source": [
    "apikey = 'CYTO5GW7TJ6OB2GA'\n",
    "script_data = ScriptData(apikey)\n",
    "df = script_data['GOOGL']\n",
    "print(df.head())"
   ]
  },
  {
   "cell_type": "code",
   "execution_count": 29,
   "id": "4263a3b0",
   "metadata": {},
   "outputs": [
    {
     "data": {
      "text/html": [
       "<div>\n",
       "<style scoped>\n",
       "    .dataframe tbody tr th:only-of-type {\n",
       "        vertical-align: middle;\n",
       "    }\n",
       "\n",
       "    .dataframe tbody tr th {\n",
       "        vertical-align: top;\n",
       "    }\n",
       "\n",
       "    .dataframe thead th {\n",
       "        text-align: right;\n",
       "    }\n",
       "</style>\n",
       "<table border=\"1\" class=\"dataframe\">\n",
       "  <thead>\n",
       "    <tr style=\"text-align: right;\">\n",
       "      <th></th>\n",
       "      <th>open</th>\n",
       "      <th>high</th>\n",
       "      <th>low</th>\n",
       "      <th>close</th>\n",
       "      <th>volume</th>\n",
       "    </tr>\n",
       "    <tr>\n",
       "      <th>timestamp</th>\n",
       "      <th></th>\n",
       "      <th></th>\n",
       "      <th></th>\n",
       "      <th></th>\n",
       "      <th></th>\n",
       "    </tr>\n",
       "  </thead>\n",
       "  <tbody>\n",
       "    <tr>\n",
       "      <th>NaT</th>\n",
       "      <td>NaN</td>\n",
       "      <td>NaN</td>\n",
       "      <td>NaN</td>\n",
       "      <td>NaN</td>\n",
       "      <td>NaN</td>\n",
       "    </tr>\n",
       "    <tr>\n",
       "      <th>NaT</th>\n",
       "      <td>NaN</td>\n",
       "      <td>NaN</td>\n",
       "      <td>NaN</td>\n",
       "      <td>NaN</td>\n",
       "      <td>NaN</td>\n",
       "    </tr>\n",
       "    <tr>\n",
       "      <th>NaT</th>\n",
       "      <td>NaN</td>\n",
       "      <td>NaN</td>\n",
       "      <td>NaN</td>\n",
       "      <td>NaN</td>\n",
       "      <td>NaN</td>\n",
       "    </tr>\n",
       "    <tr>\n",
       "      <th>NaT</th>\n",
       "      <td>NaN</td>\n",
       "      <td>NaN</td>\n",
       "      <td>NaN</td>\n",
       "      <td>NaN</td>\n",
       "      <td>NaN</td>\n",
       "    </tr>\n",
       "    <tr>\n",
       "      <th>NaT</th>\n",
       "      <td>NaN</td>\n",
       "      <td>NaN</td>\n",
       "      <td>NaN</td>\n",
       "      <td>NaN</td>\n",
       "      <td>NaN</td>\n",
       "    </tr>\n",
       "    <tr>\n",
       "      <th>...</th>\n",
       "      <td>...</td>\n",
       "      <td>...</td>\n",
       "      <td>...</td>\n",
       "      <td>...</td>\n",
       "      <td>...</td>\n",
       "    </tr>\n",
       "    <tr>\n",
       "      <th>NaT</th>\n",
       "      <td>NaN</td>\n",
       "      <td>NaN</td>\n",
       "      <td>NaN</td>\n",
       "      <td>NaN</td>\n",
       "      <td>NaN</td>\n",
       "    </tr>\n",
       "    <tr>\n",
       "      <th>NaT</th>\n",
       "      <td>NaN</td>\n",
       "      <td>NaN</td>\n",
       "      <td>NaN</td>\n",
       "      <td>NaN</td>\n",
       "      <td>NaN</td>\n",
       "    </tr>\n",
       "    <tr>\n",
       "      <th>NaT</th>\n",
       "      <td>NaN</td>\n",
       "      <td>NaN</td>\n",
       "      <td>NaN</td>\n",
       "      <td>NaN</td>\n",
       "      <td>NaN</td>\n",
       "    </tr>\n",
       "    <tr>\n",
       "      <th>NaT</th>\n",
       "      <td>NaN</td>\n",
       "      <td>NaN</td>\n",
       "      <td>NaN</td>\n",
       "      <td>NaN</td>\n",
       "      <td>NaN</td>\n",
       "    </tr>\n",
       "    <tr>\n",
       "      <th>NaT</th>\n",
       "      <td>NaN</td>\n",
       "      <td>NaN</td>\n",
       "      <td>NaN</td>\n",
       "      <td>NaN</td>\n",
       "      <td>NaN</td>\n",
       "    </tr>\n",
       "  </tbody>\n",
       "</table>\n",
       "<p>17547 rows × 5 columns</p>\n",
       "</div>"
      ],
      "text/plain": [
       "           open  high  low  close  volume\n",
       "timestamp                                \n",
       "NaT         NaN   NaN  NaN    NaN     NaN\n",
       "NaT         NaN   NaN  NaN    NaN     NaN\n",
       "NaT         NaN   NaN  NaN    NaN     NaN\n",
       "NaT         NaN   NaN  NaN    NaN     NaN\n",
       "NaT         NaN   NaN  NaN    NaN     NaN\n",
       "...         ...   ...  ...    ...     ...\n",
       "NaT         NaN   NaN  NaN    NaN     NaN\n",
       "NaT         NaN   NaN  NaN    NaN     NaN\n",
       "NaT         NaN   NaN  NaN    NaN     NaN\n",
       "NaT         NaN   NaN  NaN    NaN     NaN\n",
       "NaT         NaN   NaN  NaN    NaN     NaN\n",
       "\n",
       "[17547 rows x 5 columns]"
      ]
     },
     "execution_count": 29,
     "metadata": {},
     "output_type": "execute_result"
    }
   ],
   "source": [
    "script_data.fetch_intraday_data('GOOGL')\n",
    "script_data.convert_intraday_data('GOOGL')\n",
    "script_data['GOOGL']"
   ]
  },
  {
   "cell_type": "code",
   "execution_count": 30,
   "id": "20eb1ef4",
   "metadata": {},
   "outputs": [
    {
     "data": {
      "text/html": [
       "<div>\n",
       "<style scoped>\n",
       "    .dataframe tbody tr th:only-of-type {\n",
       "        vertical-align: middle;\n",
       "    }\n",
       "\n",
       "    .dataframe tbody tr th {\n",
       "        vertical-align: top;\n",
       "    }\n",
       "\n",
       "    .dataframe thead th {\n",
       "        text-align: right;\n",
       "    }\n",
       "</style>\n",
       "<table border=\"1\" class=\"dataframe\">\n",
       "  <thead>\n",
       "    <tr style=\"text-align: right;\">\n",
       "      <th></th>\n",
       "      <th>open</th>\n",
       "      <th>high</th>\n",
       "      <th>low</th>\n",
       "      <th>close</th>\n",
       "      <th>volume</th>\n",
       "    </tr>\n",
       "    <tr>\n",
       "      <th>timestamp</th>\n",
       "      <th></th>\n",
       "      <th></th>\n",
       "      <th></th>\n",
       "      <th></th>\n",
       "      <th></th>\n",
       "    </tr>\n",
       "  </thead>\n",
       "  <tbody>\n",
       "    <tr>\n",
       "      <th>NaT</th>\n",
       "      <td>NaN</td>\n",
       "      <td>NaN</td>\n",
       "      <td>NaN</td>\n",
       "      <td>NaN</td>\n",
       "      <td>NaN</td>\n",
       "    </tr>\n",
       "    <tr>\n",
       "      <th>NaT</th>\n",
       "      <td>NaN</td>\n",
       "      <td>NaN</td>\n",
       "      <td>NaN</td>\n",
       "      <td>NaN</td>\n",
       "      <td>NaN</td>\n",
       "    </tr>\n",
       "    <tr>\n",
       "      <th>NaT</th>\n",
       "      <td>NaN</td>\n",
       "      <td>NaN</td>\n",
       "      <td>NaN</td>\n",
       "      <td>NaN</td>\n",
       "      <td>NaN</td>\n",
       "    </tr>\n",
       "    <tr>\n",
       "      <th>NaT</th>\n",
       "      <td>NaN</td>\n",
       "      <td>NaN</td>\n",
       "      <td>NaN</td>\n",
       "      <td>NaN</td>\n",
       "      <td>NaN</td>\n",
       "    </tr>\n",
       "    <tr>\n",
       "      <th>NaT</th>\n",
       "      <td>NaN</td>\n",
       "      <td>NaN</td>\n",
       "      <td>NaN</td>\n",
       "      <td>NaN</td>\n",
       "      <td>NaN</td>\n",
       "    </tr>\n",
       "    <tr>\n",
       "      <th>...</th>\n",
       "      <td>...</td>\n",
       "      <td>...</td>\n",
       "      <td>...</td>\n",
       "      <td>...</td>\n",
       "      <td>...</td>\n",
       "    </tr>\n",
       "    <tr>\n",
       "      <th>NaT</th>\n",
       "      <td>NaN</td>\n",
       "      <td>NaN</td>\n",
       "      <td>NaN</td>\n",
       "      <td>NaN</td>\n",
       "      <td>NaN</td>\n",
       "    </tr>\n",
       "    <tr>\n",
       "      <th>NaT</th>\n",
       "      <td>NaN</td>\n",
       "      <td>NaN</td>\n",
       "      <td>NaN</td>\n",
       "      <td>NaN</td>\n",
       "      <td>NaN</td>\n",
       "    </tr>\n",
       "    <tr>\n",
       "      <th>NaT</th>\n",
       "      <td>NaN</td>\n",
       "      <td>NaN</td>\n",
       "      <td>NaN</td>\n",
       "      <td>NaN</td>\n",
       "      <td>NaN</td>\n",
       "    </tr>\n",
       "    <tr>\n",
       "      <th>NaT</th>\n",
       "      <td>NaN</td>\n",
       "      <td>NaN</td>\n",
       "      <td>NaN</td>\n",
       "      <td>NaN</td>\n",
       "      <td>NaN</td>\n",
       "    </tr>\n",
       "    <tr>\n",
       "      <th>NaT</th>\n",
       "      <td>NaN</td>\n",
       "      <td>NaN</td>\n",
       "      <td>NaN</td>\n",
       "      <td>NaN</td>\n",
       "      <td>NaN</td>\n",
       "    </tr>\n",
       "  </tbody>\n",
       "</table>\n",
       "<p>17985 rows × 5 columns</p>\n",
       "</div>"
      ],
      "text/plain": [
       "           open  high  low  close  volume\n",
       "timestamp                                \n",
       "NaT         NaN   NaN  NaN    NaN     NaN\n",
       "NaT         NaN   NaN  NaN    NaN     NaN\n",
       "NaT         NaN   NaN  NaN    NaN     NaN\n",
       "NaT         NaN   NaN  NaN    NaN     NaN\n",
       "NaT         NaN   NaN  NaN    NaN     NaN\n",
       "...         ...   ...  ...    ...     ...\n",
       "NaT         NaN   NaN  NaN    NaN     NaN\n",
       "NaT         NaN   NaN  NaN    NaN     NaN\n",
       "NaT         NaN   NaN  NaN    NaN     NaN\n",
       "NaT         NaN   NaN  NaN    NaN     NaN\n",
       "NaT         NaN   NaN  NaN    NaN     NaN\n",
       "\n",
       "[17985 rows x 5 columns]"
      ]
     },
     "execution_count": 30,
     "metadata": {},
     "output_type": "execute_result"
    }
   ],
   "source": [
    "script_data.fetch_intraday_data('AAPL')\n",
    "script_data.convert_intraday_data('AAPL')\n",
    "script_data['AAPL']"
   ]
  },
  {
   "cell_type": "code",
   "execution_count": 61,
   "id": "1dd78135",
   "metadata": {},
   "outputs": [],
   "source": [
    "import requests"
   ]
  },
  {
   "cell_type": "code",
   "execution_count": 62,
   "id": "aeb3d250",
   "metadata": {},
   "outputs": [
    {
     "name": "stdout",
     "output_type": "stream",
     "text": [
      "Requirement already satisfied: requests in c:\\users\\91931\\anaconda3\\bin\\anacondaset\\lib\\site-packages (2.25.1)Note: you may need to restart the kernel to use updated packages.\n",
      "\n",
      "Requirement already satisfied: idna<3,>=2.5 in c:\\users\\91931\\anaconda3\\bin\\anacondaset\\lib\\site-packages (from requests) (2.10)\n",
      "Requirement already satisfied: chardet<5,>=3.0.2 in c:\\users\\91931\\anaconda3\\bin\\anacondaset\\lib\\site-packages (from requests) (4.0.0)\n",
      "Requirement already satisfied: urllib3<1.27,>=1.21.1 in c:\\users\\91931\\anaconda3\\bin\\anacondaset\\lib\\site-packages (from requests) (1.26.4)\n",
      "Requirement already satisfied: certifi>=2017.4.17 in c:\\users\\91931\\anaconda3\\bin\\anacondaset\\lib\\site-packages (from requests) (2020.12.5)\n"
     ]
    }
   ],
   "source": [
    "pip install requests"
   ]
  },
  {
   "cell_type": "code",
   "execution_count": 79,
   "id": "8c4011ba",
   "metadata": {},
   "outputs": [
    {
     "name": "stdout",
     "output_type": "stream",
     "text": [
      "{'Meta Data': {'1. Information': 'Intraday (5min) open, high, low, close prices and volume', '2. Symbol': 'IBM', '3. Last Refreshed': '2023-06-28 19:50:00', '4. Interval': '5min', '5. Output Size': 'Compact', '6. Time Zone': 'US/Eastern'}, 'Time Series (5min)': {'2023-06-28 19:50:00': {'1. open': '131.9500', '2. high': '131.9500', '3. low': '131.8600', '4. close': '131.9000', '5. volume': '137'}, '2023-06-28 19:45:00': {'1. open': '131.9900', '2. high': '131.9900', '3. low': '131.9000', '4. close': '131.9000', '5. volume': '172'}, '2023-06-28 19:40:00': {'1. open': '131.9900', '2. high': '131.9900', '3. low': '131.9900', '4. close': '131.9900', '5. volume': '150'}, '2023-06-28 19:30:00': {'1. open': '131.9900', '2. high': '131.9900', '3. low': '131.9900', '4. close': '131.9900', '5. volume': '1'}, '2023-06-28 19:25:00': {'1. open': '131.9900', '2. high': '131.9900', '3. low': '131.9500', '4. close': '131.9500', '5. volume': '11'}, '2023-06-28 19:20:00': {'1. open': '131.9900', '2. high': '131.9900', '3. low': '131.9900', '4. close': '131.9900', '5. volume': '15'}, '2023-06-28 19:10:00': {'1. open': '131.9900', '2. high': '131.9900', '3. low': '131.9500', '4. close': '131.9500', '5. volume': '6'}, '2023-06-28 19:00:00': {'1. open': '131.7600', '2. high': '131.7600', '3. low': '131.7600', '4. close': '131.7600', '5. volume': '437028'}, '2023-06-28 18:45:00': {'1. open': '131.9900', '2. high': '131.9900', '3. low': '131.9900', '4. close': '131.9900', '5. volume': '54'}, '2023-06-28 18:35:00': {'1. open': '131.9900', '2. high': '131.9900', '3. low': '131.9900', '4. close': '131.9900', '5. volume': '2'}, '2023-06-28 18:30:00': {'1. open': '131.7600', '2. high': '131.9900', '3. low': '131.7600', '4. close': '131.9900', '5. volume': '437033'}, '2023-06-28 18:25:00': {'1. open': '131.9900', '2. high': '131.9900', '3. low': '131.8600', '4. close': '131.8600', '5. volume': '201'}, '2023-06-28 18:20:00': {'1. open': '131.9900', '2. high': '131.9900', '3. low': '131.9900', '4. close': '131.9900', '5. volume': '30'}, '2023-06-28 18:15:00': {'1. open': '131.9900', '2. high': '131.9900', '3. low': '131.9900', '4. close': '131.9900', '5. volume': '3'}, '2023-06-28 17:55:00': {'1. open': '131.9900', '2. high': '131.9900', '3. low': '131.9900', '4. close': '131.9900', '5. volume': '125'}, '2023-06-28 17:50:00': {'1. open': '131.9900', '2. high': '131.9900', '3. low': '131.9900', '4. close': '131.9900', '5. volume': '20'}, '2023-06-28 17:45:00': {'1. open': '131.8600', '2. high': '131.9900', '3. low': '131.8600', '4. close': '131.9900', '5. volume': '57'}, '2023-06-28 17:40:00': {'1. open': '131.8000', '2. high': '131.9900', '3. low': '131.8000', '4. close': '131.9900', '5. volume': '3'}, '2023-06-28 17:35:00': {'1. open': '131.9900', '2. high': '131.9900', '3. low': '131.9900', '4. close': '131.9900', '5. volume': '1'}, '2023-06-28 17:30:00': {'1. open': '131.8600', '2. high': '132.0000', '3. low': '131.8600', '4. close': '131.9900', '5. volume': '3'}, '2023-06-28 17:25:00': {'1. open': '132.0000', '2. high': '132.0000', '3. low': '132.0000', '4. close': '132.0000', '5. volume': '3'}, '2023-06-28 17:20:00': {'1. open': '132.0000', '2. high': '132.0000', '3. low': '131.7600', '4. close': '131.7600', '5. volume': '12'}, '2023-06-28 17:10:00': {'1. open': '132.0000', '2. high': '132.0000', '3. low': '132.0000', '4. close': '132.0000', '5. volume': '82'}, '2023-06-28 17:05:00': {'1. open': '132.0000', '2. high': '132.0000', '3. low': '132.0000', '4. close': '132.0000', '5. volume': '5'}, '2023-06-28 16:40:00': {'1. open': '131.7600', '2. high': '131.7600', '3. low': '131.7600', '4. close': '131.7600', '5. volume': '100'}, '2023-06-28 16:30:00': {'1. open': '132.0000', '2. high': '132.0000', '3. low': '132.0000', '4. close': '132.0000', '5. volume': '1'}, '2023-06-28 16:25:00': {'1. open': '131.8500', '2. high': '131.8500', '3. low': '131.8500', '4. close': '131.8500', '5. volume': '150'}, '2023-06-28 16:20:00': {'1. open': '131.8500', '2. high': '131.8500', '3. low': '131.7600', '4. close': '131.8500', '5. volume': '54'}, '2023-06-28 16:15:00': {'1. open': '131.7600', '2. high': '131.8490', '3. low': '131.7500', '4. close': '131.8490', '5. volume': '7'}, '2023-06-28 16:10:00': {'1. open': '131.7600', '2. high': '132.0990', '3. low': '131.7600', '4. close': '131.7600', '5. volume': '457056'}, '2023-06-28 16:05:00': {'1. open': '131.7600', '2. high': '131.7610', '3. low': '131.7600', '4. close': '131.7600', '5. volume': '13376'}, '2023-06-28 16:00:00': {'1. open': '131.8000', '2. high': '131.8000', '3. low': '131.7600', '4. close': '131.7600', '5. volume': '1010115'}, '2023-06-28 15:55:00': {'1. open': '131.6000', '2. high': '131.8100', '3. low': '131.5550', '4. close': '131.8000', '5. volume': '248144'}, '2023-06-28 15:50:00': {'1. open': '131.6200', '2. high': '131.7100', '3. low': '131.5600', '4. close': '131.6050', '5. volume': '88475'}, '2023-06-28 15:45:00': {'1. open': '131.6300', '2. high': '131.6600', '3. low': '131.6100', '4. close': '131.6250', '5. volume': '42920'}, '2023-06-28 15:40:00': {'1. open': '131.6500', '2. high': '131.7150', '3. low': '131.6300', '4. close': '131.6400', '5. volume': '35155'}, '2023-06-28 15:35:00': {'1. open': '131.7000', '2. high': '131.7000', '3. low': '131.6400', '4. close': '131.6550', '5. volume': '28090'}, '2023-06-28 15:30:00': {'1. open': '131.7100', '2. high': '131.7310', '3. low': '131.7000', '4. close': '131.7100', '5. volume': '20663'}, '2023-06-28 15:25:00': {'1. open': '131.8000', '2. high': '131.8100', '3. low': '131.6800', '4. close': '131.7100', '5. volume': '20010'}, '2023-06-28 15:20:00': {'1. open': '131.8000', '2. high': '131.8200', '3. low': '131.7800', '4. close': '131.8000', '5. volume': '18121'}, '2023-06-28 15:15:00': {'1. open': '131.7500', '2. high': '131.8130', '3. low': '131.7350', '4. close': '131.7950', '5. volume': '16912'}, '2023-06-28 15:10:00': {'1. open': '131.6900', '2. high': '131.8000', '3. low': '131.6800', '4. close': '131.7650', '5. volume': '18433'}, '2023-06-28 15:05:00': {'1. open': '131.7100', '2. high': '131.7150', '3. low': '131.6250', '4. close': '131.7000', '5. volume': '22590'}, '2023-06-28 15:00:00': {'1. open': '131.7100', '2. high': '131.7700', '3. low': '131.6800', '4. close': '131.7200', '5. volume': '20859'}, '2023-06-28 14:55:00': {'1. open': '131.7200', '2. high': '131.7200', '3. low': '131.6700', '4. close': '131.6950', '5. volume': '15666'}, '2023-06-28 14:50:00': {'1. open': '131.7500', '2. high': '131.7600', '3. low': '131.7200', '4. close': '131.7200', '5. volume': '14662'}, '2023-06-28 14:45:00': {'1. open': '131.7880', '2. high': '131.8000', '3. low': '131.7300', '4. close': '131.7500', '5. volume': '11093'}, '2023-06-28 14:40:00': {'1. open': '131.7300', '2. high': '131.8200', '3. low': '131.7150', '4. close': '131.8000', '5. volume': '13806'}, '2023-06-28 14:35:00': {'1. open': '131.8200', '2. high': '131.8200', '3. low': '131.7300', '4. close': '131.7400', '5. volume': '20899'}, '2023-06-28 14:30:00': {'1. open': '131.8000', '2. high': '131.8500', '3. low': '131.8000', '4. close': '131.8400', '5. volume': '15513'}, '2023-06-28 14:25:00': {'1. open': '131.8050', '2. high': '131.8350', '3. low': '131.7500', '4. close': '131.8100', '5. volume': '15416'}, '2023-06-28 14:20:00': {'1. open': '131.8500', '2. high': '131.8500', '3. low': '131.7800', '4. close': '131.8000', '5. volume': '13518'}, '2023-06-28 14:15:00': {'1. open': '131.8200', '2. high': '131.8400', '3. low': '131.7950', '4. close': '131.8400', '5. volume': '14971'}, '2023-06-28 14:10:00': {'1. open': '131.7950', '2. high': '131.8500', '3. low': '131.7800', '4. close': '131.8200', '5. volume': '15160'}, '2023-06-28 14:05:00': {'1. open': '131.8000', '2. high': '131.8200', '3. low': '131.7700', '4. close': '131.8100', '5. volume': '9739'}, '2023-06-28 14:00:00': {'1. open': '131.7400', '2. high': '131.8100', '3. low': '131.7000', '4. close': '131.7900', '5. volume': '19536'}, '2023-06-28 13:55:00': {'1. open': '131.7400', '2. high': '131.7800', '3. low': '131.6500', '4. close': '131.7300', '5. volume': '15716'}, '2023-06-28 13:50:00': {'1. open': '131.6600', '2. high': '131.7400', '3. low': '131.6300', '4. close': '131.7400', '5. volume': '12659'}, '2023-06-28 13:45:00': {'1. open': '131.7100', '2. high': '131.7200', '3. low': '131.6800', '4. close': '131.6900', '5. volume': '10150'}, '2023-06-28 13:40:00': {'1. open': '131.6500', '2. high': '131.7600', '3. low': '131.6200', '4. close': '131.7280', '5. volume': '15360'}, '2023-06-28 13:35:00': {'1. open': '131.6600', '2. high': '131.6920', '3. low': '131.6200', '4. close': '131.6630', '5. volume': '22523'}, '2023-06-28 13:30:00': {'1. open': '131.7700', '2. high': '131.8000', '3. low': '131.6700', '4. close': '131.6850', '5. volume': '25910'}, '2023-06-28 13:25:00': {'1. open': '131.7600', '2. high': '131.8000', '3. low': '131.7600', '4. close': '131.7890', '5. volume': '11622'}, '2023-06-28 13:20:00': {'1. open': '131.6700', '2. high': '131.7800', '3. low': '131.6600', '4. close': '131.7500', '5. volume': '13427'}, '2023-06-28 13:15:00': {'1. open': '131.6000', '2. high': '131.6700', '3. low': '131.5700', '4. close': '131.6700', '5. volume': '11426'}, '2023-06-28 13:10:00': {'1. open': '131.5800', '2. high': '131.6200', '3. low': '131.5100', '4. close': '131.6100', '5. volume': '16434'}, '2023-06-28 13:05:00': {'1. open': '131.5200', '2. high': '131.6000', '3. low': '131.5100', '4. close': '131.6000', '5. volume': '9802'}, '2023-06-28 13:00:00': {'1. open': '131.6500', '2. high': '131.6700', '3. low': '131.4700', '4. close': '131.5000', '5. volume': '17173'}, '2023-06-28 12:55:00': {'1. open': '131.5500', '2. high': '131.7100', '3. low': '131.5070', '4. close': '131.6900', '5. volume': '16396'}, '2023-06-28 12:50:00': {'1. open': '131.6000', '2. high': '131.6400', '3. low': '131.4900', '4. close': '131.5600', '5. volume': '28782'}, '2023-06-28 12:45:00': {'1. open': '131.5560', '2. high': '131.6600', '3. low': '131.5300', '4. close': '131.5900', '5. volume': '13015'}, '2023-06-28 12:40:00': {'1. open': '131.8800', '2. high': '131.8800', '3. low': '131.5020', '4. close': '131.5600', '5. volume': '35831'}, '2023-06-28 12:35:00': {'1. open': '131.8300', '2. high': '131.9000', '3. low': '131.7900', '4. close': '131.8900', '5. volume': '19479'}, '2023-06-28 12:30:00': {'1. open': '131.7800', '2. high': '131.8400', '3. low': '131.7050', '4. close': '131.8280', '5. volume': '16166'}, '2023-06-28 12:25:00': {'1. open': '131.8200', '2. high': '131.8200', '3. low': '131.6900', '4. close': '131.7610', '5. volume': '19777'}, '2023-06-28 12:20:00': {'1. open': '131.8100', '2. high': '131.8500', '3. low': '131.7400', '4. close': '131.8430', '5. volume': '18741'}, '2023-06-28 12:15:00': {'1. open': '131.8600', '2. high': '131.9110', '3. low': '131.8100', '4. close': '131.8100', '5. volume': '17159'}, '2023-06-28 12:10:00': {'1. open': '131.8000', '2. high': '131.9000', '3. low': '131.8000', '4. close': '131.8420', '5. volume': '24404'}, '2023-06-28 12:05:00': {'1. open': '131.6350', '2. high': '131.7900', '3. low': '131.5900', '4. close': '131.7900', '5. volume': '14193'}, '2023-06-28 12:00:00': {'1. open': '131.6000', '2. high': '131.6730', '3. low': '131.6000', '4. close': '131.6300', '5. volume': '18851'}, '2023-06-28 11:55:00': {'1. open': '131.5000', '2. high': '131.6100', '3. low': '131.4800', '4. close': '131.6000', '5. volume': '22949'}, '2023-06-28 11:50:00': {'1. open': '131.5600', '2. high': '131.5700', '3. low': '131.4750', '4. close': '131.4900', '5. volume': '11522'}, '2023-06-28 11:45:00': {'1. open': '131.6100', '2. high': '131.6200', '3. low': '131.5400', '4. close': '131.5750', '5. volume': '17805'}, '2023-06-28 11:40:00': {'1. open': '131.5100', '2. high': '131.6200', '3. low': '131.5050', '4. close': '131.6000', '5. volume': '14537'}, '2023-06-28 11:35:00': {'1. open': '131.3900', '2. high': '131.5300', '3. low': '131.3800', '4. close': '131.5200', '5. volume': '20148'}, '2023-06-28 11:30:00': {'1. open': '131.3600', '2. high': '131.4500', '3. low': '131.3400', '4. close': '131.3800', '5. volume': '24918'}, '2023-06-28 11:25:00': {'1. open': '131.2000', '2. high': '131.3500', '3. low': '131.1600', '4. close': '131.3400', '5. volume': '26910'}, '2023-06-28 11:20:00': {'1. open': '131.3800', '2. high': '131.4000', '3. low': '131.2200', '4. close': '131.2200', '5. volume': '19977'}, '2023-06-28 11:15:00': {'1. open': '131.4700', '2. high': '131.4700', '3. low': '131.3150', '4. close': '131.3700', '5. volume': '34544'}, '2023-06-28 11:10:00': {'1. open': '131.4600', '2. high': '131.5100', '3. low': '131.4000', '4. close': '131.4700', '5. volume': '17941'}, '2023-06-28 11:05:00': {'1. open': '131.4800', '2. high': '131.5500', '3. low': '131.4240', '4. close': '131.4500', '5. volume': '20131'}, '2023-06-28 11:00:00': {'1. open': '131.5800', '2. high': '131.6000', '3. low': '131.4200', '4. close': '131.4700', '5. volume': '18356'}, '2023-06-28 10:55:00': {'1. open': '131.4900', '2. high': '131.6500', '3. low': '131.4900', '4. close': '131.5600', '5. volume': '43308'}, '2023-06-28 10:50:00': {'1. open': '131.6200', '2. high': '131.6600', '3. low': '131.4300', '4. close': '131.4900', '5. volume': '48112'}, '2023-06-28 10:45:00': {'1. open': '131.6800', '2. high': '131.7250', '3. low': '131.6300', '4. close': '131.6300', '5. volume': '34892'}, '2023-06-28 10:40:00': {'1. open': '131.5600', '2. high': '131.7450', '3. low': '131.5500', '4. close': '131.6800', '5. volume': '33249'}, '2023-06-28 10:35:00': {'1. open': '131.3900', '2. high': '131.6150', '3. low': '131.3800', '4. close': '131.5700', '5. volume': '39058'}, '2023-06-28 10:30:00': {'1. open': '131.3000', '2. high': '131.4400', '3. low': '131.2800', '4. close': '131.3800', '5. volume': '37714'}, '2023-06-28 10:25:00': {'1. open': '131.2200', '2. high': '131.3100', '3. low': '131.1650', '4. close': '131.2900', '5. volume': '34813'}, '2023-06-28 10:20:00': {'1. open': '131.3900', '2. high': '131.4240', '3. low': '131.2100', '4. close': '131.2100', '5. volume': '18376'}}}\n"
     ]
    }
   ],
   "source": [
    "url = 'https://www.alphavantage.co/query?function=TIME_SERIES_INTRADAY&symbol=IBM&interval=5min&apikey=CYTO5GW7TJ6OB2GA'\n",
    "r = requests.get(url)\n",
    "data = r.json()\n",
    "\n",
    "print(data)"
   ]
  },
  {
   "cell_type": "code",
   "execution_count": 31,
   "id": "cc6e6fa3",
   "metadata": {},
   "outputs": [],
   "source": [
    "class ScriptData:\n",
    "    def __init__(self, api_key):\n",
    "        self.api_key = api_key\n",
    "        self.ts = TimeSeries(key=api_key, output_format='pandas')\n",
    "\n",
    "    def fetch_intraday_data(self, script):\n",
    "        data, meta_data = self.ts.get_intraday(symbol=script, interval='1min', outputsize='full')\n",
    "        return data\n",
    "\n",
    "    def convert_intraday_data(self, script):\n",
    "        raw_data = self.fetch_intraday_data(script)\n",
    "        df = pd.DataFrame(raw_data, columns=['timestamp', 'open', 'high', 'low', 'close', 'volume'])\n",
    "        df['timestamp'] = pd.to_datetime(df['timestamp'])\n",
    "        return df\n",
    "\n",
    "    def __contains__(self, script):\n",
    "        # Check if the script exists in the fetched intraday data\n",
    "        df = self.convert_intraday_data(script)\n",
    "        return script in df.columns\n",
    "\n",
    "# Create an instance of the ScriptData class\n",
    "script_data = ScriptData(api_key='CYTO5GW7TJ6OB2GA')"
   ]
  },
  {
   "cell_type": "code",
   "execution_count": 32,
   "id": "70c4c39b",
   "metadata": {},
   "outputs": [
    {
     "data": {
      "text/plain": [
       "False"
      ]
     },
     "execution_count": 32,
     "metadata": {},
     "output_type": "execute_result"
    }
   ],
   "source": [
    "'AAPL' in script_data"
   ]
  },
  {
   "cell_type": "code",
   "execution_count": 34,
   "id": "fd1cf99d",
   "metadata": {},
   "outputs": [
    {
     "data": {
      "text/plain": [
       "False"
      ]
     },
     "execution_count": 34,
     "metadata": {},
     "output_type": "execute_result"
    }
   ],
   "source": [
    "'NVDA' in script_data"
   ]
  },
  {
   "cell_type": "code",
   "execution_count": 99,
   "id": "eb58e53e",
   "metadata": {},
   "outputs": [
    {
     "data": {
      "text/plain": [
       "False"
      ]
     },
     "execution_count": 99,
     "metadata": {},
     "output_type": "execute_result"
    }
   ],
   "source": [
    "'GOOGL' in script_data"
   ]
  },
  {
   "cell_type": "code",
   "execution_count": null,
   "id": "8b281275",
   "metadata": {},
   "outputs": [],
   "source": [
    "# QUES2: Define a function called indicator1. It should take “df” and ‘timeperiod’ (integer)."
   ]
  },
  {
   "cell_type": "code",
   "execution_count": 28,
   "id": "18641abb",
   "metadata": {},
   "outputs": [],
   "source": [
    "import pandas as pd\n",
    "\n",
    "def indicator1(df, timeperiod):\n",
    "    result = pd.DataFrame()\n",
    "    result['timestamp'] = df['timestamp']\n",
    "    result['indicator'] = df['close'].rolling(timeperiod).mean()\n",
    "    return result"
   ]
  },
  {
   "cell_type": "code",
   "execution_count": 29,
   "id": "71b0c378",
   "metadata": {},
   "outputs": [
    {
     "name": "stdout",
     "output_type": "stream",
     "text": [
      "           open  high  low  close  volume\n",
      "timestamp                                \n",
      "NaT         NaN   NaN  NaN    NaN     NaN\n",
      "NaT         NaN   NaN  NaN    NaN     NaN\n",
      "NaT         NaN   NaN  NaN    NaN     NaN\n",
      "NaT         NaN   NaN  NaN    NaN     NaN\n",
      "NaT         NaN   NaN  NaN    NaN     NaN\n"
     ]
    }
   ],
   "source": [
    "data = script_data.get_data('GOOGL')  # Assuming you have fetched the data using your ScriptData class\n",
    "print(data.head())\n"
   ]
  },
  {
   "cell_type": "code",
   "execution_count": 75,
   "id": "005db2c7",
   "metadata": {},
   "outputs": [
    {
     "name": "stdout",
     "output_type": "stream",
     "text": [
      "Requirement already satisfied: pandas in c:\\users\\91931\\anaconda3\\bin\\anacondaset\\lib\\site-packages (1.2.4)\n",
      "Requirement already satisfied: pytz>=2017.3 in c:\\users\\91931\\anaconda3\\bin\\anacondaset\\lib\\site-packages (from pandas) (2021.1)\n",
      "Requirement already satisfied: numpy>=1.16.5 in c:\\users\\91931\\anaconda3\\bin\\anacondaset\\lib\\site-packages (from pandas) (1.20.1)\n",
      "Requirement already satisfied: python-dateutil>=2.7.3 in c:\\users\\91931\\anaconda3\\bin\\anacondaset\\lib\\site-packages (from pandas) (2.8.1)\n",
      "Requirement already satisfied: six>=1.5 in c:\\users\\91931\\anaconda3\\bin\\anacondaset\\lib\\site-packages (from python-dateutil>=2.7.3->pandas) (1.15.0)\n"
     ]
    }
   ],
   "source": [
    "!pip install pandas"
   ]
  },
  {
   "cell_type": "code",
   "execution_count": 77,
   "id": "2ae1736b",
   "metadata": {},
   "outputs": [
    {
     "name": "stdout",
     "output_type": "stream",
     "text": [
      "  Indicator Arguments  Values  Unnamed: 2  Unnamed: 3    Symbol  \\\n",
      "0         time_period     NaN         NaN         NaN      MLGO   \n",
      "1         series_type     NaN         NaN         NaN      MBOT   \n",
      "2         fastdperiod    3.00         NaN         NaN      MCHP   \n",
      "3         fastkperiod    5.00         NaN         NaN  CY9D.FRK   \n",
      "4           fastlimit    0.01         NaN         NaN   MCP.FRK   \n",
      "\n",
      "                                Name    Type         Region MarketOpen  \\\n",
      "0                      MicroAlgo Inc  Equity  United States       9:30   \n",
      "1               Microbot Medical Inc  Equity  United States       9:30   \n",
      "2           Microchip Technology Inc  Equity  United States       9:30   \n",
      "3               Microbot Medical Inc  Equity      Frankfurt       8:00   \n",
      "4  Microchip Technology Incorporated  Equity      Frankfurt       8:00   \n",
      "\n",
      "  MarketClose  ... Unnamed: 36 Commodity    WTI  Unnamed: 39     Date.1  \\\n",
      "0       16:00  ...         NaN  interval  daily          NaN  2/27/2023   \n",
      "1       16:00  ...         NaN       NaN    NaN          NaN  2/24/2023   \n",
      "2       16:00  ...         NaN       NaN    NaN          NaN  2/23/2023   \n",
      "3       20:00  ...         NaN       NaN    NaN          NaN  2/22/2023   \n",
      "4       20:00  ...         NaN       NaN    NaN          NaN  2/21/2023   \n",
      "\n",
      "   WTI.1     Currency.1         Unnamed: 44             Unnamed: 45  \n",
      "0  75.57 NaN        USD  From_Currency Code                     USD  \n",
      "1  76.19 NaN        GBP  From_Currency Name    United States Dollar  \n",
      "2  75.26 NaN        NaN    To_Currency Code                     GBP  \n",
      "3  73.95 NaN        NaN    To_Currency Name  British Pound Sterling  \n",
      "4  76.28 NaN        NaN       Exchange Rate                 0.81637  \n",
      "\n",
      "[5 rows x 46 columns]\n"
     ]
    }
   ],
   "source": [
    "import pandas as pd\n",
    "data = pd.read_csv('C:/Users/91931/Downloads/algo (2).csv')\n",
    "import pandas as pd\n",
    "\n",
    "# Read the CSV file\n",
    "data = pd.read_csv('C:/Users/91931/Downloads/algo (2).csv')\n",
    "\n",
    "# Display the first few rows of the data\n",
    "print(data.head())\n",
    "\n",
    "# Access a specific column\n",
    "column_data = data['Indicator Arguments']"
   ]
  },
  {
   "cell_type": "code",
   "execution_count": 78,
   "id": "35b46aaf",
   "metadata": {},
   "outputs": [
    {
     "name": "stdout",
     "output_type": "stream",
     "text": [
      "Requirement already satisfied: alpha_vantage in c:\\users\\91931\\anaconda3\\bin\\anacondaset\\lib\\site-packages (2.3.1)\n",
      "Requirement already satisfied: pandas in c:\\users\\91931\\anaconda3\\bin\\anacondaset\\lib\\site-packages (1.2.4)\n",
      "Requirement already satisfied: aiohttp in c:\\users\\91931\\anaconda3\\bin\\anacondaset\\lib\\site-packages (from alpha_vantage) (3.8.4)\n",
      "Requirement already satisfied: requests in c:\\users\\91931\\anaconda3\\bin\\anacondaset\\lib\\site-packages (from alpha_vantage) (2.25.1)\n",
      "Requirement already satisfied: python-dateutil>=2.7.3 in c:\\users\\91931\\anaconda3\\bin\\anacondaset\\lib\\site-packages (from pandas) (2.8.1)\n",
      "Requirement already satisfied: numpy>=1.16.5 in c:\\users\\91931\\anaconda3\\bin\\anacondaset\\lib\\site-packages (from pandas) (1.20.1)\n",
      "Requirement already satisfied: pytz>=2017.3 in c:\\users\\91931\\anaconda3\\bin\\anacondaset\\lib\\site-packages (from pandas) (2021.1)\n",
      "Requirement already satisfied: six>=1.5 in c:\\users\\91931\\anaconda3\\bin\\anacondaset\\lib\\site-packages (from python-dateutil>=2.7.3->pandas) (1.15.0)\n",
      "Requirement already satisfied: aiosignal>=1.1.2 in c:\\users\\91931\\anaconda3\\bin\\anacondaset\\lib\\site-packages (from aiohttp->alpha_vantage) (1.3.1)\n",
      "Requirement already satisfied: yarl<2.0,>=1.0 in c:\\users\\91931\\anaconda3\\bin\\anacondaset\\lib\\site-packages (from aiohttp->alpha_vantage) (1.9.2)\n",
      "Requirement already satisfied: attrs>=17.3.0 in c:\\users\\91931\\anaconda3\\bin\\anacondaset\\lib\\site-packages (from aiohttp->alpha_vantage) (20.3.0)\n",
      "Requirement already satisfied: frozenlist>=1.1.1 in c:\\users\\91931\\anaconda3\\bin\\anacondaset\\lib\\site-packages (from aiohttp->alpha_vantage) (1.3.3)\n",
      "Requirement already satisfied: multidict<7.0,>=4.5 in c:\\users\\91931\\anaconda3\\bin\\anacondaset\\lib\\site-packages (from aiohttp->alpha_vantage) (6.0.4)\n",
      "Requirement already satisfied: async-timeout<5.0,>=4.0.0a3 in c:\\users\\91931\\anaconda3\\bin\\anacondaset\\lib\\site-packages (from aiohttp->alpha_vantage) (4.0.2)\n",
      "Requirement already satisfied: charset-normalizer<4.0,>=2.0 in c:\\users\\91931\\anaconda3\\bin\\anacondaset\\lib\\site-packages (from aiohttp->alpha_vantage) (3.1.0)\n",
      "Requirement already satisfied: idna>=2.0 in c:\\users\\91931\\anaconda3\\bin\\anacondaset\\lib\\site-packages (from yarl<2.0,>=1.0->aiohttp->alpha_vantage) (2.10)\n",
      "Requirement already satisfied: certifi>=2017.4.17 in c:\\users\\91931\\anaconda3\\bin\\anacondaset\\lib\\site-packages (from requests->alpha_vantage) (2020.12.5)\n",
      "Requirement already satisfied: chardet<5,>=3.0.2 in c:\\users\\91931\\anaconda3\\bin\\anacondaset\\lib\\site-packages (from requests->alpha_vantage) (4.0.0)\n",
      "Requirement already satisfied: urllib3<1.27,>=1.21.1 in c:\\users\\91931\\anaconda3\\bin\\anacondaset\\lib\\site-packages (from requests->alpha_vantage) (1.26.4)\n"
     ]
    }
   ],
   "source": [
    "!pip install alpha_vantage pandas"
   ]
  },
  {
   "cell_type": "code",
   "execution_count": 106,
   "id": "8c1b2610",
   "metadata": {},
   "outputs": [],
   "source": [
    "script_data = ScriptData(apikey)"
   ]
  },
  {
   "cell_type": "code",
   "execution_count": 107,
   "id": "2ec4d391",
   "metadata": {},
   "outputs": [],
   "source": [
    "import pandas as pd\n",
    "from alpha_vantage.timeseries import TimeSeries\n",
    "\n",
    "class ScriptData:\n",
    "    def __init__(self, api_key):\n",
    "        self.api_key = api_key\n",
    "        self.ts = TimeSeries(key=api_key, output_format='pandas')\n",
    "        \n",
    "    def fetch_intraday_data(self, script):\n",
    "        data, meta_data = self.ts.get_intraday(symbol=script, interval='1min', outputsize='full')\n",
    "        return data\n",
    "    \n",
    "    def convert_intraday_data(self, script):\n",
    "        raw_data = self.fetch_intraday_data(script)\n",
    "        df = pd.DataFrame(raw_data, columns=['timestamp', 'open', 'high', 'low', 'close', 'volume'])\n",
    "        df['timestamp'] = pd.to_datetime(df['timestamp'])\n",
    "        df.set_index('timestamp', inplace=True)\n",
    "        return df\n",
    "    \n",
    "    def __getitem__(self, script):\n",
    "        return self.convert_intraday_data(script)\n",
    "    \n",
    "    def indicator1(self, df, timeperiod):\n",
    "        result = pd.DataFrame()\n",
    "        result['timestamp'] = df.index\n",
    "        result['indicator'] = df['close'].rolling(timeperiod).mean()\n",
    "        return result"
   ]
  },
  {
   "cell_type": "code",
   "execution_count": 108,
   "id": "07a78a18",
   "metadata": {},
   "outputs": [
    {
     "name": "stdout",
     "output_type": "stream",
     "text": [
      "           open  high  low  close  volume\n",
      "timestamp                                \n",
      "NaT         NaN   NaN  NaN    NaN     NaN\n",
      "NaT         NaN   NaN  NaN    NaN     NaN\n",
      "NaT         NaN   NaN  NaN    NaN     NaN\n",
      "NaT         NaN   NaN  NaN    NaN     NaN\n",
      "NaT         NaN   NaN  NaN    NaN     NaN\n"
     ]
    }
   ],
   "source": [
    "apikey = 'CYTO5GW7TJ6OB2GA'\n",
    "script_data = ScriptData(apikey)\n",
    "df = script_data['GOOGL']\n",
    "print(df.head())"
   ]
  },
  {
   "cell_type": "code",
   "execution_count": 35,
   "id": "1d42bb78",
   "metadata": {},
   "outputs": [
    {
     "name": "stdout",
     "output_type": "stream",
     "text": [
      "  timestamp  indicator\n",
      "0       NaT        NaN\n"
     ]
    }
   ],
   "source": [
    "import pandas as pd\n",
    "from alpha_vantage.timeseries import TimeSeries\n",
    "\n",
    "class ScriptData:\n",
    "    def __init__(self, api_key):\n",
    "        self.api_key = api_key\n",
    "        self.ts = TimeSeries(key=api_key, output_format='pandas')\n",
    "        \n",
    "    def fetch_intraday_data(self, script):\n",
    "        data, meta_data = self.ts.get_intraday(symbol=script, interval='1min', outputsize='full')\n",
    "        return data\n",
    "    \n",
    "    def convert_intraday_data(self, script):\n",
    "        raw_data = self.fetch_intraday_data(script)\n",
    "        df = pd.DataFrame(raw_data, columns=['timestamp', 'open', 'high', 'low', 'close', 'volume'])\n",
    "        df['timestamp'] = pd.to_datetime(df['timestamp'])\n",
    "        df.set_index('timestamp', inplace=True)\n",
    "        return df\n",
    "    \n",
    "    def indicator1(self, df, timeperiod):\n",
    "        result = pd.DataFrame()\n",
    "        df = df[~df.index.duplicated(keep='first')]  # Remove duplicate timestamps\n",
    "        result['timestamp'] = df.index\n",
    "        result['indicator'] = df['close'].rolling(timeperiod).mean()\n",
    "        return result\n",
    "\n",
    "# Define your API key\n",
    "api_key = 'CYTO5GW7TJ6OB2GA'\n",
    "\n",
    "# Create an instance of the ScriptData class\n",
    "script_data = ScriptData(api_key)\n",
    "\n",
    "# Access the data for the 'GOOGL' script\n",
    "df = script_data.convert_intraday_data('GOOGL')\n",
    "\n",
    "# Calculate the indicator using the indicator1 method\n",
    "result = script_data.indicator1(df, timeperiod=5)\n",
    "\n",
    "# Print the result\n",
    "print(result)"
   ]
  },
  {
   "cell_type": "code",
   "execution_count": 36,
   "id": "420fefcc",
   "metadata": {},
   "outputs": [
    {
     "name": "stdout",
     "output_type": "stream",
     "text": [
      "timestamp  indicator\n",
      "      NaT        NaN\n"
     ]
    }
   ],
   "source": [
    "# Print the result in a formatted manner\n",
    "print(result.to_string(index=False))"
   ]
  },
  {
   "cell_type": "code",
   "execution_count": 7,
   "id": "37c1b75a",
   "metadata": {},
   "outputs": [
    {
     "name": "stdout",
     "output_type": "stream",
     "text": [
      "  timestamp  indicator\n",
      "0       NaT        NaN\n"
     ]
    }
   ],
   "source": [
    "result = script_data.indicator1(df, timeperiod=5)\n",
    "print(result)"
   ]
  },
  {
   "cell_type": "code",
   "execution_count": 8,
   "id": "810c2097",
   "metadata": {},
   "outputs": [
    {
     "name": "stdout",
     "output_type": "stream",
     "text": [
      "  timestamp  indicator\n",
      "0       NaT        NaN\n"
     ]
    }
   ],
   "source": [
    "result = script_data.indicator1(df=script_data.convert_intraday_data('GOOGL'), timeperiod=5)\n",
    "print(result)\n"
   ]
  },
  {
   "cell_type": "code",
   "execution_count": 9,
   "id": "d9614e24",
   "metadata": {},
   "outputs": [
    {
     "name": "stdout",
     "output_type": "stream",
     "text": [
      "  timestamp  indicator\n",
      "0       NaT        NaN\n"
     ]
    }
   ],
   "source": [
    "result = script_data.indicator1(df=script_data.convert_intraday_data('AAPL'), timeperiod=5)\n",
    "print(result)"
   ]
  },
  {
   "cell_type": "code",
   "execution_count": null,
   "id": "670d95b2",
   "metadata": {},
   "outputs": [],
   "source": [
    "# QUES3: Define a class Strategy, which can do the following, given a script name: Fetch intraday historical day (‘df’) using ScriptData class."
   ]
  },
  {
   "cell_type": "code",
   "execution_count": 42,
   "id": "dc2ba761",
   "metadata": {},
   "outputs": [
    {
     "name": "stdout",
     "output_type": "stream",
     "text": [
      "  Indicator Arguments  Values  Unnamed: 2  Unnamed: 3    Symbol  \\\n",
      "0         time_period     NaN         NaN         NaN      MLGO   \n",
      "1         series_type     NaN         NaN         NaN      MBOT   \n",
      "2         fastdperiod    3.00         NaN         NaN      MCHP   \n",
      "3         fastkperiod    5.00         NaN         NaN  CY9D.FRK   \n",
      "4           fastlimit    0.01         NaN         NaN   MCP.FRK   \n",
      "\n",
      "                                Name    Type         Region MarketOpen  \\\n",
      "0                      MicroAlgo Inc  Equity  United States       9:30   \n",
      "1               Microbot Medical Inc  Equity  United States       9:30   \n",
      "2           Microchip Technology Inc  Equity  United States       9:30   \n",
      "3               Microbot Medical Inc  Equity      Frankfurt       8:00   \n",
      "4  Microchip Technology Incorporated  Equity      Frankfurt       8:00   \n",
      "\n",
      "  MarketClose  ... Unnamed: 36 Commodity    WTI  Unnamed: 39     Date.1  \\\n",
      "0       16:00  ...         NaN  interval  daily          NaN  2/27/2023   \n",
      "1       16:00  ...         NaN       NaN    NaN          NaN  2/24/2023   \n",
      "2       16:00  ...         NaN       NaN    NaN          NaN  2/23/2023   \n",
      "3       20:00  ...         NaN       NaN    NaN          NaN  2/22/2023   \n",
      "4       20:00  ...         NaN       NaN    NaN          NaN  2/21/2023   \n",
      "\n",
      "   WTI.1     Currency.1         Unnamed: 44             Unnamed: 45  \n",
      "0  75.57 NaN        USD  From_Currency Code                     USD  \n",
      "1  76.19 NaN        GBP  From_Currency Name    United States Dollar  \n",
      "2  75.26 NaN        NaN    To_Currency Code                     GBP  \n",
      "3  73.95 NaN        NaN    To_Currency Name  British Pound Sterling  \n",
      "4  76.28 NaN        NaN       Exchange Rate                 0.81637  \n",
      "\n",
      "[5 rows x 46 columns]\n"
     ]
    }
   ],
   "source": [
    "import pandas as pd\n",
    "data = pd.read_csv('C:/Users/91931/Downloads/algo (2).csv')\n",
    "import pandas as pd\n",
    "\n",
    "# Read the CSV file\n",
    "data = pd.read_csv('C:/Users/91931/Downloads/algo (2).csv')\n",
    "\n",
    "# Display the first few rows of the data\n",
    "print(data.head())\n",
    "\n",
    "# Access a specific column\n",
    "column_data = data['Indicator Arguments']"
   ]
  },
  {
   "cell_type": "code",
   "execution_count": 44,
   "id": "45a38403",
   "metadata": {},
   "outputs": [
    {
     "name": "stdout",
     "output_type": "stream",
     "text": [
      "Requirement already satisfied: alpha_vantage in c:\\users\\91931\\anaconda3\\bin\\anacondaset\\lib\\site-packages (2.3.1)\n",
      "Requirement already satisfied: pandas in c:\\users\\91931\\anaconda3\\bin\\anacondaset\\lib\\site-packages (1.2.4)\n",
      "Requirement already satisfied: aiohttp in c:\\users\\91931\\anaconda3\\bin\\anacondaset\\lib\\site-packages (from alpha_vantage) (3.8.4)\n",
      "Requirement already satisfied: requests in c:\\users\\91931\\anaconda3\\bin\\anacondaset\\lib\\site-packages (from alpha_vantage) (2.25.1)\n",
      "Requirement already satisfied: pytz>=2017.3 in c:\\users\\91931\\anaconda3\\bin\\anacondaset\\lib\\site-packages (from pandas) (2021.1)\n",
      "Requirement already satisfied: numpy>=1.16.5 in c:\\users\\91931\\anaconda3\\bin\\anacondaset\\lib\\site-packages (from pandas) (1.20.1)\n",
      "Requirement already satisfied: python-dateutil>=2.7.3 in c:\\users\\91931\\anaconda3\\bin\\anacondaset\\lib\\site-packages (from pandas) (2.8.1)\n",
      "Requirement already satisfied: six>=1.5 in c:\\users\\91931\\anaconda3\\bin\\anacondaset\\lib\\site-packages (from python-dateutil>=2.7.3->pandas) (1.15.0)\n",
      "Requirement already satisfied: attrs>=17.3.0 in c:\\users\\91931\\anaconda3\\bin\\anacondaset\\lib\\site-packages (from aiohttp->alpha_vantage) (20.3.0)\n",
      "Requirement already satisfied: frozenlist>=1.1.1 in c:\\users\\91931\\anaconda3\\bin\\anacondaset\\lib\\site-packages (from aiohttp->alpha_vantage) (1.3.3)\n",
      "Requirement already satisfied: yarl<2.0,>=1.0 in c:\\users\\91931\\anaconda3\\bin\\anacondaset\\lib\\site-packages (from aiohttp->alpha_vantage) (1.9.2)\n",
      "Requirement already satisfied: async-timeout<5.0,>=4.0.0a3 in c:\\users\\91931\\anaconda3\\bin\\anacondaset\\lib\\site-packages (from aiohttp->alpha_vantage) (4.0.2)\n",
      "Requirement already satisfied: charset-normalizer<4.0,>=2.0 in c:\\users\\91931\\anaconda3\\bin\\anacondaset\\lib\\site-packages (from aiohttp->alpha_vantage) (3.1.0)\n",
      "Requirement already satisfied: aiosignal>=1.1.2 in c:\\users\\91931\\anaconda3\\bin\\anacondaset\\lib\\site-packages (from aiohttp->alpha_vantage) (1.3.1)\n",
      "Requirement already satisfied: multidict<7.0,>=4.5 in c:\\users\\91931\\anaconda3\\bin\\anacondaset\\lib\\site-packages (from aiohttp->alpha_vantage) (6.0.4)\n",
      "Requirement already satisfied: idna>=2.0 in c:\\users\\91931\\anaconda3\\bin\\anacondaset\\lib\\site-packages (from yarl<2.0,>=1.0->aiohttp->alpha_vantage) (2.10)\n",
      "Requirement already satisfied: certifi>=2017.4.17 in c:\\users\\91931\\anaconda3\\bin\\anacondaset\\lib\\site-packages (from requests->alpha_vantage) (2020.12.5)\n",
      "Requirement already satisfied: chardet<5,>=3.0.2 in c:\\users\\91931\\anaconda3\\bin\\anacondaset\\lib\\site-packages (from requests->alpha_vantage) (4.0.0)\n",
      "Requirement already satisfied: urllib3<1.27,>=1.21.1 in c:\\users\\91931\\anaconda3\\bin\\anacondaset\\lib\\site-packages (from requests->alpha_vantage) (1.26.4)\n"
     ]
    }
   ],
   "source": [
    "!pip install alpha_vantage pandas"
   ]
  },
  {
   "cell_type": "code",
   "execution_count": 61,
   "id": "3d4edfa1",
   "metadata": {},
   "outputs": [],
   "source": [
    "script_data = ScriptData(apikey)"
   ]
  },
  {
   "cell_type": "code",
   "execution_count": null,
   "id": "aaee3124",
   "metadata": {},
   "outputs": [],
   "source": [
    "C:\\Users\\91931    \"C:\\Users\\91931\\script_data.py\""
   ]
  },
  {
   "cell_type": "code",
   "execution_count": 69,
   "id": "8a8f794d",
   "metadata": {},
   "outputs": [
    {
     "name": "stdout",
     "output_type": "stream",
     "text": [
      "Collecting psycopg2Note: you may need to restart the kernel to use updated packages.\n",
      "\n",
      "  Using cached psycopg2-2.9.6-cp38-cp38-win_amd64.whl (1.2 MB)\n",
      "Installing collected packages: psycopg2\n",
      "Successfully installed psycopg2-2.9.6\n"
     ]
    }
   ],
   "source": [
    "pip install psycopg2"
   ]
  },
  {
   "cell_type": "code",
   "execution_count": 71,
   "id": "13a887eb",
   "metadata": {},
   "outputs": [],
   "source": [
    "import psycopg2"
   ]
  },
  {
   "cell_type": "code",
   "execution_count": 72,
   "id": "50896749",
   "metadata": {},
   "outputs": [],
   "source": [
    "import sys\n",
    "sys.path.append('C:/Users/91931/script_data.py')\n",
    "\n",
    "from script_data import ScriptData"
   ]
  },
  {
   "cell_type": "code",
   "execution_count": 74,
   "id": "c40861e2",
   "metadata": {},
   "outputs": [],
   "source": [
    "from script_data import ScriptData\n",
    "\n",
    "class Strategy:\n",
    "    def __init__(self, script_name):\n",
    "        self.script_name = script_name\n",
    "        self.df = None\n",
    "        self.close_data = None\n",
    "\n",
    "    def fetch_intraday_historical_data(self):\n",
    "        script_data = ScriptData()\n",
    "        self.df = script_data.fetch_intraday_historical_data(self.script_name)\n",
    "        self.close_data = self.df['close'] if self.df is not None else None\n",
    "\n",
    "    def execute_strategy(self):\n",
    "        self.fetch_intraday_historical_data()\n",
    "        # Perform other tasks or computations as needed"
   ]
  },
  {
   "cell_type": "code",
   "execution_count": 80,
   "id": "1af7fb41",
   "metadata": {},
   "outputs": [],
   "source": [
    "import sys\n",
    "sys.path.append('C:/Users/91931/demoproject/demoproject')  # Add the directory containing the module, not the module file itself\n",
    "\n",
    "from indicator_functions import indicator1"
   ]
  },
  {
   "cell_type": "code",
   "execution_count": 108,
   "id": "3b81f6d4",
   "metadata": {},
   "outputs": [],
   "source": [
    "class Strategy:\n",
    "    def __init__(self, script_name):\n",
    "        self.script_name = script_name\n",
    "        self.df = None\n",
    "        self.close_data = None\n",
    "        self.indicator_data = None\n",
    "\n",
    "    def fetch_intraday_historical_data(self):\n",
    "        # Placeholder function to fetch intraday historical data\n",
    "        # Modify this function to fetch data using your desired method or API\n",
    "        # For example, you can use a web API, a database query, or a file reader\n",
    "        # Set the fetched data to self.df and the close column to self.close_data\n",
    "        # Replace this code with your actual implementation\n",
    "        self.df = fetch_data_from_api(self.script_name)\n",
    "        self.close_data = self.df['close'] if self.df is not None else None"
   ]
  },
  {
   "cell_type": "code",
   "execution_count": 4,
   "id": "d68bf520",
   "metadata": {},
   "outputs": [],
   "source": [
    "api_key = 'your_api_key'\n",
    "db_host = 'your_db_host'\n",
    "db_port = 'your_db_port'\n",
    "db_name = 'your_db_name'\n",
    "db_user = 'your_db_user'\n",
    "db_password = 'your_db_password'\n",
    "\n",
    "script_data = ScriptData(api_key, db_host, db_port, db_name, db_user, db_password)"
   ]
  },
  {
   "cell_type": "code",
   "execution_count": 5,
   "id": "76634c08",
   "metadata": {},
   "outputs": [],
   "source": [
    "class Strategy:\n",
    "    def __init__(self, script_name, api_key):\n",
    "        self.script_name = script_name\n",
    "        self.api_key = api_key\n",
    "        self.signals = None\n",
    "\n",
    "    def fetch_intraday_historical_data(self):\n",
    "        script_data = ScriptData(self.api_key)\n",
    "        self.df = script_data.convert_intraday_data(self.script_name)\n",
    "        self.close_data = self.df['close'] if self.df is not None else None\n",
    "\n",
    "    def compute_indicator_data(self, timeperiod):\n",
    "        if self.close_data is not None:\n",
    "            self.indicator_data = indicator1(self.df, timeperiod)\n",
    "\n",
    "    def generate_signals_dataframe(self):\n",
    "        if self.close_data is not None and self.indicator_data is not None:\n",
    "            signals = pd.DataFrame({'timestamp': self.df['timestamp']})\n",
    "            signals['signal'] = 'NO_SIGNAL'\n",
    "\n",
    "            buy_indices = self.indicator_data[self.indicator_data['indicator'] > self.close_data].index\n",
    "            signals.loc[buy_indices, 'signal'] = 'BUY'\n",
    "\n",
    "            sell_indices = self.indicator_data[self.indicator_data['indicator'] < self.close_data].index\n",
    "            signals.loc[sell_indices, 'signal'] = 'SELL'\n",
    "\n",
    "            self.signals = signals\n",
    "\n",
    "    def print_signals_dataframe(self):\n",
    "        if self.signals is not None:\n",
    "            buy_sell_signals = self.signals[(self.signals['signal'] == 'BUY') | (self.signals['signal'] == 'SELL')]\n",
    "            print(buy_sell_signals)\n",
    "\n",
    "    def execute_strategy(self, timeperiod):\n",
    "        self.fetch_intraday_historical_data()\n",
    "        self.compute_indicator_data(timeperiod)\n",
    "        self.generate_signals_dataframe()\n",
    "        self.print_signals_dataframe()"
   ]
  },
  {
   "cell_type": "code",
   "execution_count": 8,
   "id": "c8fa5ebb",
   "metadata": {},
   "outputs": [
    {
     "name": "stdout",
     "output_type": "stream",
     "text": [
      "Collecting alpha_vantage\n",
      "  Using cached alpha_vantage-2.3.1-py3-none-any.whl (31 kB)\n",
      "Requirement already satisfied: requests in c:\\users\\91931\\anaconda3\\python\\lib\\site-packages (from alpha_vantage) (2.25.1)\n",
      "Collecting aiohttp\n",
      "  Using cached aiohttp-3.8.4-cp38-cp38-win_amd64.whl (324 kB)\n",
      "Collecting aiosignal>=1.1.2\n",
      "  Using cached aiosignal-1.3.1-py3-none-any.whl (7.6 kB)\n",
      "Collecting multidict<7.0,>=4.5\n",
      "  Using cached multidict-6.0.4-cp38-cp38-win_amd64.whl (28 kB)\n",
      "Collecting yarl<2.0,>=1.0\n",
      "  Using cached yarl-1.9.2-cp38-cp38-win_amd64.whl (61 kB)\n",
      "Collecting frozenlist>=1.1.1\n",
      "  Using cached frozenlist-1.3.3-cp38-cp38-win_amd64.whl (34 kB)\n",
      "Requirement already satisfied: attrs>=17.3.0 in c:\\users\\91931\\anaconda3\\python\\lib\\site-packages (from aiohttp->alpha_vantage) (20.3.0)\n",
      "Collecting charset-normalizer<4.0,>=2.0\n",
      "  Using cached charset_normalizer-3.1.0-cp38-cp38-win_amd64.whl (96 kB)\n",
      "Collecting async-timeout<5.0,>=4.0.0a3\n",
      "  Using cached async_timeout-4.0.2-py3-none-any.whl (5.8 kB)\n",
      "Requirement already satisfied: idna>=2.0 in c:\\users\\91931\\anaconda3\\python\\lib\\site-packages (from yarl<2.0,>=1.0->aiohttp->alpha_vantage) (2.10)\n",
      "Requirement already satisfied: chardet<5,>=3.0.2 in c:\\users\\91931\\anaconda3\\python\\lib\\site-packages (from requests->alpha_vantage) (4.0.0)\n",
      "Requirement already satisfied: certifi>=2017.4.17 in c:\\users\\91931\\anaconda3\\python\\lib\\site-packages (from requests->alpha_vantage) (2023.5.7)\n",
      "Requirement already satisfied: urllib3<1.27,>=1.21.1 in c:\\users\\91931\\anaconda3\\python\\lib\\site-packages (from requests->alpha_vantage) (1.26.4)\n",
      "Installing collected packages: multidict, frozenlist, yarl, charset-normalizer, async-timeout, aiosignal, aiohttp, alpha-vantage\n",
      "Successfully installed aiohttp-3.8.4 aiosignal-1.3.1 alpha-vantage-2.3.1 async-timeout-4.0.2 charset-normalizer-3.1.0 frozenlist-1.3.3 multidict-6.0.4 yarl-1.9.2\n",
      "Note: you may need to restart the kernel to use updated packages.\n"
     ]
    }
   ],
   "source": [
    "pip install alpha_vantage"
   ]
  },
  {
   "cell_type": "code",
   "execution_count": 15,
   "id": "8f881d66",
   "metadata": {},
   "outputs": [],
   "source": [
    "from alpha_vantage.timeseries import TimeSeries\n",
    "import pandas as pd\n",
    "\n",
    "class ScriptData:\n",
    "    def __init__(self, api_key, db_host=None, db_port=None, db_name=None, db_user=None, db_password=None):\n",
    "        self.api_key = api_key\n",
    "        self.db_host = db_host\n",
    "        self.db_port = db_port\n",
    "        self.db_name = db_name\n",
    "        self.db_user = db_user\n",
    "        self.db_password = db_password\n",
    "\n",
    "    def fetch_intraday_data(self, script):\n",
    "        ts = TimeSeries(key=self.api_key, output_format='pandas')\n",
    "        data, _ = ts.get_intraday(symbol=script, interval='1min', outputsize='full')\n",
    "        return data\n",
    "\n",
    "    def convert_intraday_data(self, script):\n",
    "        data = self.fetch_intraday_data(script)\n",
    "        data.columns = ['open', 'high', 'low', 'close', 'volume']\n",
    "        data['timestamp'] = pd.to_datetime(data.index)\n",
    "        return data\n",
    "\n",
    "    def __getitem__(self, key):\n",
    "        return self.fetch_intraday_data(key)\n",
    "\n",
    "    def __setitem__(self, key, value):\n",
    "        raise NotImplementedError(\"Setting values is not supported.\")\n",
    "\n",
    "    def __contains__(self, key):\n",
    "        try:\n",
    "            self.fetch_intraday_data(key)\n",
    "            return True\n",
    "        except:\n",
    "            return False\n"
   ]
  },
  {
   "cell_type": "code",
   "execution_count": 19,
   "id": "7dfece8f",
   "metadata": {},
   "outputs": [],
   "source": [
    "def indicator1(df, timeperiod):\n",
    "    result = pd.DataFrame()\n",
    "    result['timestamp'] = df['timestamp']\n",
    "    result['indicator'] = df['close'].rolling(timeperiod).mean()\n",
    "    return result"
   ]
  },
  {
   "cell_type": "code",
   "execution_count": 20,
   "id": "cf5a4830",
   "metadata": {},
   "outputs": [
    {
     "name": "stdout",
     "output_type": "stream",
     "text": [
      "                              timestamp signal\n",
      "date                                          \n",
      "2023-07-03 16:55:00 2023-07-03 16:55:00   SELL\n",
      "2023-07-03 16:54:00 2023-07-03 16:54:00    BUY\n",
      "2023-07-03 16:53:00 2023-07-03 16:53:00   SELL\n",
      "2023-07-03 16:52:00 2023-07-03 16:52:00    BUY\n",
      "2023-07-03 16:51:00 2023-07-03 16:51:00   SELL\n",
      "...                                 ...    ...\n",
      "2023-06-06 04:04:00 2023-06-06 04:04:00    BUY\n",
      "2023-06-06 04:03:00 2023-06-06 04:03:00   SELL\n",
      "2023-06-06 04:02:00 2023-06-06 04:02:00    BUY\n",
      "2023-06-06 04:01:00 2023-06-06 04:01:00    BUY\n",
      "2023-06-06 04:00:00 2023-06-06 04:00:00    BUY\n",
      "\n",
      "[17778 rows x 2 columns]\n"
     ]
    }
   ],
   "source": [
    "# Define your API key\n",
    "api_key = 'CYTO5GW7TJ6OB2GA'\n",
    "\n",
    "# Create an instance of the Strategy class\n",
    "strategy = Strategy('AAPL', api_key)\n",
    "\n",
    "# Execute the strategy with a specific time period\n",
    "timeperiod = 5\n",
    "strategy.execute_strategy(timeperiod)"
   ]
  },
  {
   "cell_type": "code",
   "execution_count": 22,
   "id": "4002f459",
   "metadata": {},
   "outputs": [
    {
     "name": "stdout",
     "output_type": "stream",
     "text": [
      "Collecting mplfinance\n",
      "  Downloading mplfinance-0.12.9b7-py3-none-any.whl (73 kB)\n",
      "Requirement already satisfied: pandas in c:\\users\\91931\\anaconda3\\python\\lib\\site-packages (from mplfinance) (1.2.4)\n",
      "Requirement already satisfied: matplotlib in c:\\users\\91931\\anaconda3\\python\\lib\\site-packages (from mplfinance) (3.3.4)\n",
      "Requirement already satisfied: numpy>=1.15 in c:\\users\\91931\\anaconda3\\python\\lib\\site-packages (from matplotlib->mplfinance) (1.20.1)\n",
      "Requirement already satisfied: cycler>=0.10 in c:\\users\\91931\\anaconda3\\python\\lib\\site-packages (from matplotlib->mplfinance) (0.10.0)\n",
      "Requirement already satisfied: pillow>=6.2.0 in c:\\users\\91931\\anaconda3\\python\\lib\\site-packages (from matplotlib->mplfinance) (8.2.0)\n",
      "Requirement already satisfied: python-dateutil>=2.1 in c:\\users\\91931\\anaconda3\\python\\lib\\site-packages (from matplotlib->mplfinance) (2.8.1)\n",
      "Requirement already satisfied: pyparsing!=2.0.4,!=2.1.2,!=2.1.6,>=2.0.3 in c:\\users\\91931\\anaconda3\\python\\lib\\site-packages (from matplotlib->mplfinance) (2.4.7)\n",
      "Requirement already satisfied: kiwisolver>=1.0.1 in c:\\users\\91931\\anaconda3\\python\\lib\\site-packages (from matplotlib->mplfinance) (1.3.1)\n",
      "Requirement already satisfied: six in c:\\users\\91931\\anaconda3\\python\\lib\\site-packages (from cycler>=0.10->matplotlib->mplfinance) (1.15.0)\n",
      "Requirement already satisfied: pytz>=2017.3 in c:\\users\\91931\\anaconda3\\python\\lib\\site-packages (from pandas->mplfinance) (2021.1)\n",
      "Installing collected packages: mplfinance\n",
      "Successfully installed mplfinance-0.12.9b7\n",
      "Note: you may need to restart the kernel to use updated packages.\n"
     ]
    }
   ],
   "source": [
    "pip install mplfinance"
   ]
  },
  {
   "cell_type": "code",
   "execution_count": 24,
   "id": "d0245774",
   "metadata": {},
   "outputs": [
    {
     "name": "stdout",
     "output_type": "stream",
     "text": [
      "                     1. open  2. high  3. low  4. close  5. volume\n",
      "date                                                              \n",
      "2023-07-03 16:59:00   119.60  119.640  119.54   119.640      248.0\n",
      "2023-07-03 16:58:00   119.64  119.655  119.64   119.655        8.0\n",
      "2023-07-03 16:57:00   119.65  119.655  119.65   119.650       24.0\n",
      "2023-07-03 16:56:00   119.60  119.670  119.54   119.670       51.0\n",
      "2023-07-03 16:55:00   119.56  119.655  119.56   119.640       48.0\n"
     ]
    }
   ],
   "source": [
    "apikey = 'CYTO5GW7TJ6OB2GA'\n",
    "script_data = ScriptData(apikey)\n",
    "df = script_data['GOOGL']\n",
    "print(df.head())"
   ]
  },
  {
   "cell_type": "code",
   "execution_count": 60,
   "id": "7a24fb28",
   "metadata": {},
   "outputs": [],
   "source": [
    "df = df.dropna()"
   ]
  },
  {
   "cell_type": "code",
   "execution_count": 61,
   "id": "ac11d65b",
   "metadata": {},
   "outputs": [],
   "source": [
    "df = df.fillna(method='ffill')  # Forward-fill missing values"
   ]
  },
  {
   "cell_type": "code",
   "execution_count": 2,
   "id": "e343ba45",
   "metadata": {},
   "outputs": [
    {
     "data": {
      "image/png": "[encoded data removed]",
      "text/plain": [
       "<Figure size 800x575 with 2 Axes>"
      ]
     },
     "metadata": {},
     "output_type": "display_data"
    }
   ],
   "source": [
    "import mplfinance as mpf\n",
    "import pandas as pd\n",
    "\n",
    "# Create a DataFrame with OHLC (Open, High, Low, Close) data\n",
    "data = {\n",
    "    'date': ['2023-07-01', '2023-07-02', '2023-07-03'],\n",
    "    'open': [100, 110, 105],\n",
    "    'high': [120, 130, 115],\n",
    "    'low': [90, 100, 95],\n",
    "    'close': [115, 125, 110]\n",
    "}\n",
    "df = pd.DataFrame(data)\n",
    "df['date'] = pd.to_datetime(df['date'])\n",
    "df.set_index('date', inplace=True)\n",
    "\n",
    "# Plot the candlestick chart\n",
    "mpf.plot(df, type='candle', style='charles', title='Candlestick Chart', ylabel='Price')"
   ]
  },
  {
   "cell_type": "code",
   "execution_count": 4,
   "id": "b2a7a32a",
   "metadata": {},
   "outputs": [
    {
     "data": {
      "image/png": "[encoded data removed]",
      "text/plain": [
       "<Figure size 640x480 with 1 Axes>"
      ]
     },
     "metadata": {},
     "output_type": "display_data"
    }
   ],
   "source": [
    "import matplotlib.pyplot as plt\n",
    "import pandas as pd\n",
    "\n",
    "# Create a DataFrame with OHLC (Open, High, Low, Close) data\n",
    "data = {\n",
    "    'date': ['2023-07-01', '2023-07-02', '2023-07-03'],\n",
    "    'open': [100, 110, 105],\n",
    "    'high': [120, 130, 115],\n",
    "    'low': [90, 100, 95],\n",
    "    'close': [115, 125, 110]\n",
    "}\n",
    "df = pd.DataFrame(data)\n",
    "df['date'] = pd.to_datetime(df['date'])\n",
    "df.set_index('date', inplace=True)\n",
    "\n",
    "# Plot the candlestick chart using pyplot\n",
    "fig, ax = plt.subplots()\n",
    "ax.set_title('Candlestick Chart')\n",
    "ax.set_ylabel('Price')\n",
    "\n",
    "# Convert the date format to matplotlib's numeric representation\n",
    "df['date_num'] = df.index.map(pd.Timestamp.toordinal)\n",
    "\n",
    "# Plotting the candlestick chart\n",
    "ax.vlines(df['date_num'], df['low'], df['high'], color='black', linewidth=1.5)\n",
    "ax.vlines(df['date_num'], df['open'], df['close'], color='red', linewidth=4)\n",
    "ax.xaxis_date()\n",
    "\n",
    "plt.xticks(rotation=45)\n",
    "plt.tight_layout()\n",
    "plt.show()\n"
   ]
  },
  {
   "cell_type": "code",
   "execution_count": 9,
   "id": "01189c64",
   "metadata": {},
   "outputs": [
    {
     "data": {
      "image/png": "[encoded data removed]",
      "text/plain": [
       "<Figure size 640x480 with 1 Axes>"
      ]
     },
     "metadata": {},
     "output_type": "display_data"
    }
   ],
   "source": [
    "import matplotlib.pyplot as plt\n",
    "import pandas as pd\n",
    "\n",
    "# Create a DataFrame with OHLC (Open, High, Low, Close) data\n",
    "data = {\n",
    "    'date': ['2023-07-01', '2023-07-02', '2023-07-03'],\n",
    "    'open': [100, 110, 105],\n",
    "    'high': [120, 130, 115],\n",
    "    'low': [90, 100, 95],\n",
    "    'close': [115, 125, 110]\n",
    "}\n",
    "\n",
    "# Create a DataFrame from the modified data dictionary\n",
    "df = pd.DataFrame(data)\n",
    "df.set_index('date', inplace=True)\n",
    "\n",
    "# Plot the line chart\n",
    "df.plot(kind='line', style='-', marker='o', markersize=8)\n",
    "\n",
    "plt.title('Line Plot')\n",
    "plt.xlabel('Date')\n",
    "plt.ylabel('Price')\n",
    "\n",
    "plt.xticks(rotation=45)\n",
    "plt.tight_layout()\n",
    "plt.show()"
   ]
  },
  {
   "cell_type": "code",
   "execution_count": null,
   "id": "f52f2c11",
   "metadata": {},
   "outputs": [],
   "source": []
  },
  {
   "cell_type": "code",
   "execution_count": null,
   "id": "c0ea694a",
   "metadata": {},
   "outputs": [],
   "source": []
  }
 ],
 "metadata": {
  "kernelspec": {
   "display_name": "Python 3",
   "language": "python",
   "name": "python3"
  },
  "language_info": {
   "codemirror_mode": {
    "name": "ipython",
    "version": 3
   },
   "file_extension": ".py",
   "mimetype": "text/x-python",
   "name": "python",
   "nbconvert_exporter": "python",
   "pygments_lexer": "ipython3",
   "version": "3.8.8"
  }
 },
 "nbformat": 4,
 "nbformat_minor": 5
}
